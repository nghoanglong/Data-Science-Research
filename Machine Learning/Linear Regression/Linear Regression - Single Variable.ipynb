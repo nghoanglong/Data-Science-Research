{
 "cells": [
  {
   "cell_type": "markdown",
   "metadata": {},
   "source": [
    "### Define những lib cần thiết"
   ]
  },
  {
   "cell_type": "code",
   "execution_count": 1,
   "metadata": {},
   "outputs": [],
   "source": [
    "import numpy as np\n",
    "import matplotlib.pyplot as plt\n",
    "from sklearn import datasets, linear_model\n",
    "%matplotlib inline"
   ]
  },
  {
   "attachments": {
    "image.png": {
     "image/png": "[encoded data removed]"
    }
   },
   "cell_type": "markdown",
   "metadata": {},
   "source": [
    "### Linear Regression với hàm một biến - Single Variable\n",
    "Ở đây ta sẽ xét bài toán cân nặng ở link sau [link](https://machinelearningcoban.com/2016/12/28/linearregression/)\n",
    "\n",
    "Ta nhận thấy, hàm hồi quy sẽ có dạng như sau: ![image.png](attachment:image.png)\n",
    "với y = chiều cao và x = cân nặng. Việc cần làm là đi tìm optimal point **w**"
   ]
  },
  {
   "cell_type": "code",
   "execution_count": 2,
   "metadata": {},
   "outputs": [
    {
     "data": {
      "text/plain": [
       "[<matplotlib.lines.Line2D at 0x1585c3fdb80>]"
      ]
     },
     "execution_count": 2,
     "metadata": {},
     "output_type": "execute_result"
    },
    {
     "data": {
      "image/png": "[encoded data removed]",
      "text/plain": [
       "<Figure size 432x288 with 1 Axes>"
      ]
     },
     "metadata": {
      "needs_background": "light"
     },
     "output_type": "display_data"
    }
   ],
   "source": [
    "weight_data = np.array([[147, 150, 153, 158, 163, 165, 168, 170, 173, 175, 178, 180, 183]]).T\n",
    "height_data =  np.array([[ 49, 50, 51,  54, 58, 59, 60, 62, 63, 64, 66, 67, 68]]).T\n",
    "\n",
    "# Xây dựng công thức Linear Regression\n",
    "X_bar = np.concatenate((np.ones((weight_data.shape[0], 1)), weight_data), axis = 1)\n",
    "A = np.dot(X_bar.T, X_bar) \n",
    "b = np.dot(X_bar.T, height_data)\n",
    "w_opimal = np.dot(np.linalg.pinv(A), b) # hàm np.linalg.pinv là giả nghịch đảo \n",
    "\n",
    "# visual lize data\n",
    "plt.scatter(weight_data, height_data, c=weight_data, cmap='summer', edgecolors='black')\n",
    "\n",
    "# Draw fitting line\n",
    "x_1 = np.linspace(140, 190, 3, endpoint = True)\n",
    "y = w_opimal[0, 0] + w_opimal[1, 0]*x_1 \n",
    "plt.plot(x_1, y, color='#94bbe9')\n",
    "\n",
    "# Dự đoán chiều cao theo cân nặng nhập vào\n",
    "# weight = int(input('Nhap weight: '))\n",
    "# w_0 = w_opimal[0, 0]\n",
    "# w_1 = w_opimal[1, 0]\n",
    "# height = w_0 + w_1*weight\n",
    "# print(f'Vay chieu cao tuong ung voi {weight} la: {height}')"
   ]
  }
 ],
 "metadata": {
  "kernelspec": {
   "display_name": "ML_env",
   "language": "python",
   "name": "ml_env"
  },
  "language_info": {
   "codemirror_mode": {
    "name": "ipython",
    "version": 3
   },
   "file_extension": ".py",
   "mimetype": "text/x-python",
   "name": "python",
   "nbconvert_exporter": "python",
   "pygments_lexer": "ipython3",
   "version": "3.8.5"
  }
 },
 "nbformat": 4,
 "nbformat_minor": 4
}
